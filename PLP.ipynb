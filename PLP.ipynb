{
 "cells": [
  {
   "cell_type": "markdown",
   "metadata": {},
   "source": [
    "# Extracción de Coeficientes PLP\n",
    "Este notebook se enfoca en extraer los coeficientes PLP (Perceptual Linear Prediction) de una señal de audio. Los coeficientes PLP son comunes en el reconocimiento automático del habla y ofrecen una representación espectral perceptualmente ponderada de la señal."
   ]
  },
  {
   "cell_type": "markdown",
   "metadata": {},
   "source": [
    "## Índice:\n",
    "\n",
    "1. Importación de Bibliotecas\n",
    "2. Definición de Funciones para la Extracción de Coeficientes PLP\n",
    "3. Cargar Datos de Audio\n",
    "4. Extracción de Coeficientes PLP\n",
    "5. Guardado de Coeficientes PLP\n",
    "6. Resumen de los Resultados"
   ]
  },
  {
   "cell_type": "markdown",
   "metadata": {},
   "source": [
    "## 1. Importación de Bibliotecas\n",
    "Se importan las bibliotecas necesarias para la extracción y procesamiento de los coeficientes PLP."
   ]
  },
  {
   "cell_type": "code",
   "execution_count": null,
   "metadata": {
    "collapsed": true
   },
   "outputs": [],
   "source": [
    "# Importamos las bibliotecas necesarias\n",
    "\n",
    "# numpy es una biblioteca de Python utilizada para operaciones matemáticas\n",
    "# sobre arrays y matrices de manera eficiente. Se abrevia comúnmente como np.\n",
    "import numpy as np\n",
    "\n",
    "# python_speech_features es una biblioteca que proporciona herramientas para\n",
    "# extraer características de señales de audio, en particular características\n",
    "# relacionadas con el habla. Estamos importando el módulo 'base' que contiene\n",
    "# funciones fundamentales para la extracción de características.\n",
    "from python_speech_features import base"
   ]
  },
  {
   "cell_type": "markdown",
   "metadata": {},
   "source": [
    "## 2. Definición de Funciones para la Extracción de Coeficientes PLP\n",
    "Se presentan las funciones que se usarán para cargar los datos de audio y extraer/guardar los coeficientes PLP."
   ]
  },
  {
   "cell_type": "markdown",
   "metadata": {},
   "source": [
    "### 2.1. Función para cargar frames de un archivo\n",
    "Carga frames de audio desde un archivo utilizando la función `load` de numpy.\n",
    "\n",
    ">**Parámetros:**\n",
    "* **archivo_de_entrada (str):** Ruta o nombre del archivo del cual se cargarán los frames de audio.\n",
    "\n",
    ">**Retorna:**\n",
    "* **ndarray:** Un array de numpy con los frames de audio cargados desde el archivo."
   ]
  },
  {
   "cell_type": "code",
   "execution_count": null,
   "metadata": {
    "collapsed": true
   },
   "outputs": [],
   "source": [
    "def load_frames_from_file(archivo_de_entrada):\n",
    "    return np.load(archivo_de_entrada)"
   ]
  },
  {
   "cell_type": "markdown",
   "metadata": {},
   "source": [
    "### 2.2. Funciones Auxiliares para Conversión y Filtros"
   ]
  },
  {
   "cell_type": "markdown",
   "metadata": {},
   "source": [
    "1. **hz2bark:** Esta función convierte las frecuencias dadas en Hertz (Hz) a la escala Bark, que es una escala psicoacústica. Se basa en la observación empírica de la resolución del oído humano en diferentes frecuencias.\n",
    "\n",
    "Convierte las frecuencias dadas de Hz a la escala Bark.\n",
    "\n",
    ">**Parámetros:**\n",
    "* **frequencies (ndarray):** Un array de numpy que contiene las frecuencias en Hz a convertir.\n",
    "\n",
    ">**Retorna:**\n",
    "* **ndarray:** Un array de numpy con las frecuencias convertidas a la escala Bark."
   ]
  },
  {
   "cell_type": "code",
   "execution_count": null,
   "metadata": {
    "collapsed": true
   },
   "outputs": [],
   "source": [
    "def hz2bark(frequencies):\n",
    "    return 6 * np.arcsinh(frequencies / 600)"
   ]
  },
  {
   "cell_type": "markdown",
   "metadata": {},
   "source": [
    "2. **bark2hz:** Realiza la conversión opuesta a la función hz2bark, transformando las frecuencias en la escala Bark de vuelta a la escala de Hertz.\n",
    "\n",
    "Convierte las frecuencias dadas de la escala Bark a Hz.\n",
    "\n",
    ">**Parámetros:**\n",
    "* **barks (ndarray):** Un array de numpy que contiene las frecuencias en la escala Bark a convertir.\n",
    "\n",
    ">**Retorna:**\n",
    "* **ndarray:** Un array de numpy con las frecuencias convertidas a Hz."
   ]
  },
  {
   "cell_type": "code",
   "execution_count": null,
   "metadata": {
    "collapsed": true
   },
   "outputs": [],
   "source": [
    "def bark2hz(barks):\n",
    "    return 600 * np.sinh(barks / 6)"
   ]
  },
  {
   "cell_type": "markdown",
   "metadata": {},
   "source": [
    "3. **triangular_filters:** Esta función crea filtros triangulares basados en los bordes de las bandas críticas proporcionadas. Estos filtros se utilizan comúnmente en el procesamiento de señales de audio para analizar el contenido espectral del audio en bandas críticas específicas, que corresponden a la forma en que el oído humano percibe el sonido.\n",
    "\n",
    "Genera filtros triangulares en el dominio de la frecuencia basados en los bordes de las bandas críticas proporcionadas.\n",
    "\n",
    ">**Parámetros:**\n",
    "* **critical_band_edges (ndarray):** Un array de numpy que contiene los bordes de las bandas críticas en Hz.\n",
    "* **nfft (int):** El número total de puntos FFT.\n",
    "* **sample_rate (int):** La tasa de muestreo del audio en Hz.\n",
    "\n",
    ">**Retorna:**\n",
    "* **ndarray:** Una matriz de numpy con los coeficientes de los filtros triangulares."
   ]
  },
  {
   "cell_type": "code",
   "execution_count": 2,
   "metadata": {
    "collapsed": true
   },
   "outputs": [],
   "source": [
    "def triangular_filters(critical_band_edges, nfft, sample_rate):\n",
    "    nfilt = len(critical_band_edges) - 2\n",
    "    bin_indices = np.floor((nfft + 1) * critical_band_edges / sample_rate)\n",
    "    fbanks = np.zeros((nfilt, nfft // 2 + 1))\n",
    "    \n",
    "    for i in range(nfilt):\n",
    "        for j in range(int(bin_indices[i]), int(bin_indices[i+1])):\n",
    "            fbanks[i, j] = (j - bin_indices[i]) / (bin_indices[i+1] - bin_indices[i])\n",
    "        for j in range(int(bin_indices[i+1]), int(bin_indices[i+2])):\n",
    "            fbanks[i, j] = (bin_indices[i+2] - j) / (bin_indices[i+2] - bin_indices[i+1])\n",
    "\n",
    "    return fbanks"
   ]
  },
  {
   "cell_type": "markdown",
   "metadata": {},
   "source": [
    "### 2.3. Función para extraer características PLP de los frames de audio\n",
    "Extrae los coeficientes PLP (Perceptual Linear Prediction) de cada frame de audio.\n",
    "\n",
    ">**Parámetros:**\n",
    "* **frames (ndarray):** Una matriz donde cada columna representa un frame de audio.\n",
    "* **sample_rate (int):** Tasa de muestreo del audio.\n",
    "* **winstep (float, opcional):** Paso entre frames en segundos. Por defecto es 0.01 (10 ms).\n",
    "* **numcep (int, opcional):** Número de coeficientes PLP a extraer. Por defecto es 13.\n",
    "* **nfilt (int, opcional):** Número de filtros en el banco de filtros. Por defecto es 26.\n",
    "* **nfft (int, opcional):** Número total de puntos FFT a usar. Por defecto es 512.\n",
    "\n",
    ">**Retorna:**\n",
    "* **ndarray:** Una matriz donde cada fila contiene los coeficientes PLP de un frame."
   ]
  },
  {
   "cell_type": "code",
   "execution_count": null,
   "metadata": {
    "collapsed": true
   },
   "outputs": [],
   "source": [
    "def extraer_caracteristicas_plp_from_frames(frames, sample_rate, winstep=0.01, numcep=13, nfilt=26, nfft=512):\n",
    "    frame_len = frames.shape[1]  # Cambiar a 1\n",
    "    frame_width = frames.shape[0]  # Cambiar a 0\n",
    "\n",
    "    plp_coeffs = np.zeros((frame_len, numcep))\n",
    "\n",
    "    for i in range(frame_len):\n",
    "        frame = frames[:, i]  # Cambiar a columna\n",
    "        frame_power_spectrum = np.abs(np.fft.rfft(frame, n=nfft)) ** 2\n",
    "\n",
    "        critical_band_edges = bark2hz(np.linspace(hz2bark(0), hz2bark(sample_rate // 2), nfilt + 2))\n",
    "        fbanks = triangular_filters(critical_band_edges, nfft, sample_rate)\n",
    "\n",
    "        # Aplicar el filtro bancario a la señal\n",
    "        filter_banks_energy = np.dot(frame_power_spectrum, fbanks.T)\n",
    "        filter_banks_energy = np.where(filter_banks_energy == 0, np.finfo(float).eps, filter_banks_energy)\n",
    "        \n",
    "        # Compresión de la señal\n",
    "        filter_banks_energy = np.log(filter_banks_energy)\n",
    "\n",
    "        # Obtener los coeficientes PLP\n",
    "        plp_coeffs[i, :] = base.dct(filter_banks_energy)[:numcep]\n",
    "\n",
    "    return plp_coeffs"
   ]
  },
  {
   "cell_type": "markdown",
   "metadata": {},
   "source": [
    "## 3. Cargar Datos de Audio\n",
    "Aquí se carga la señal de audio desde un archivo .npy."
   ]
  },
  {
   "cell_type": "code",
   "execution_count": null,
   "metadata": {
    "collapsed": true
   },
   "outputs": [],
   "source": [
    "nombre_del_archivo_de_frames = \"nombre_del_archivo_que_contiene_los_frames.npy\"\n",
    "frames = load_frames_from_file(nombre_del_archivo_de_frames)"
   ]
  },
  {
   "cell_type": "markdown",
   "metadata": {},
   "source": [
    "## 4. Extracción de Coeficientes PLP\n",
    "A partir de la señal de audio cargada, se extraen los coeficientes PLP."
   ]
  },
  {
   "cell_type": "code",
   "execution_count": null,
   "metadata": {
    "collapsed": true
   },
   "outputs": [],
   "source": [
    "sample_rate = 32000\n",
    "plp_coeffs = extraer_caracteristicas_plp_from_frames(frames, sample_rate)"
   ]
  },
  {
   "cell_type": "markdown",
   "metadata": {},
   "source": [
    "## 5. Guardado de Coeficientes PLP\n",
    "Una vez extraídos los coeficientes PLP, se procede a guardarlos en un archivo .npy."
   ]
  },
  {
   "cell_type": "code",
   "execution_count": null,
   "metadata": {
    "collapsed": true
   },
   "outputs": [],
   "source": [
    "# Ruta al archivo donde se guardarán los coeficientes PLP\n",
    "archivo_coeficientes = 'coeficientes_plp.npy'\n",
    "np.save(archivo_coeficientes, plp_coeffs)"
   ]
  },
  {
   "cell_type": "markdown",
   "metadata": {},
   "source": [
    "## 6. Resumen de los Resultados\n",
    "1. Archivo original de frames: **nombre_del_archivo_que_contiene_los_frames.npy**\n",
    "2. Archivo de salida con coeficientes PLP: **coeficientes_plp.npy**"
   ]
  }
 ],
 "metadata": {
  "anaconda-cloud": {},
  "kernelspec": {
   "display_name": "Python [default]",
   "language": "python",
   "name": "python3"
  },
  "language_info": {
   "codemirror_mode": {
    "name": "ipython",
    "version": 3
   },
   "file_extension": ".py",
   "mimetype": "text/x-python",
   "name": "python",
   "nbconvert_exporter": "python",
   "pygments_lexer": "ipython3",
   "version": "3.5.2"
  }
 },
 "nbformat": 4,
 "nbformat_minor": 1
}
