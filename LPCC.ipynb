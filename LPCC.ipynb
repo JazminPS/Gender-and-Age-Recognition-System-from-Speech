{
 "cells": [
  {
   "cell_type": "markdown",
   "metadata": {},
   "source": [
    "# Extracción de Coeficientes LPCC\n",
    "Este notebook se centra en extraer los coeficientes LPC y convertirlos a LPCC (Cepstral Predictive Linear Coding) de una señal de audio."
   ]
  },
  {
   "cell_type": "markdown",
   "metadata": {},
   "source": [
    "## Índice:\n",
    "\n",
    "1. Importación de Bibliotecas\n",
    "2. Definición de Funciones para la Extracción de Coeficientes LPCC\n",
    "3. Cargar Datos de Audio\n",
    "4. Extracción de Coeficientes LPC\n",
    "5. Conversión de LPC a LPCC\n",
    "6. Guardado de Coeficientes\n",
    "7. Resumen de los Resultados"
   ]
  },
  {
   "cell_type": "markdown",
   "metadata": {},
   "source": [
    "## 1. Importación de Bibliotecas\n",
    "Se importan las bibliotecas necesarias para la extracción y procesamiento de los coeficientes LPC y LPCC."
   ]
  },
  {
   "cell_type": "code",
   "execution_count": null,
   "metadata": {
    "collapsed": true
   },
   "outputs": [],
   "source": [
    "# numpy es una biblioteca de Python utilizada para realizar operaciones matemáticas\n",
    "# sobre arrays y matrices de manera eficiente. Se abrevia comúnmente como np.\n",
    "import numpy as np\n",
    "\n",
    "# librosa es una biblioteca de Python para el análisis de audio y música. \n",
    "# Proporciona las herramientas necesarias para extraer información de señales de audio\n",
    "# tales como tiempo de duración, frecuencia, entre otras.\n",
    "import librosa"
   ]
  },
  {
   "cell_type": "markdown",
   "metadata": {},
   "source": [
    "## 2. Definición de Funciones para la Extracción de Coeficientes LPCC\n",
    "Se presentan las funciones que se usarán para cargar los datos de audio y extraer/guardar los coeficientes LPCC."
   ]
  },
  {
   "cell_type": "markdown",
   "metadata": {},
   "source": [
    "### 2.1. Función para cargar frames de audio desde un archivo\n",
    "Carga frames de audio de un archivo utilizando la función `load` de numpy.\n",
    "\n",
    ">**Parámetros:**\n",
    "* **archivo_entrada (str):** Ruta o nombre del archivo que contiene los frames de audio a cargar.\n",
    "\n",
    ">**Retorna:**\n",
    "* **ndarray:** Un array de numpy con los frames de audio cargados del archivo."
   ]
  },
  {
   "cell_type": "code",
   "execution_count": null,
   "metadata": {
    "collapsed": true
   },
   "outputs": [],
   "source": [
    "def cargar_frames_desde_archivo(archivo_entrada):\n",
    "    return np.load(archivo_entrada)"
   ]
  },
  {
   "cell_type": "markdown",
   "metadata": {},
   "source": [
    "### 2.2. Función para extraer coeficientes LPC\n",
    "Extrae los coeficientes LPC (Linear Predictive Coding) de cada frame de audio. Se extraen los coeficientes utilizando la función [lpc()](https://librosa.org/doc/main/generated/librosa.lpc.html) de la biblioteca [librosa](https://librosa.org/doc/latest/index.html).\n",
    "\n",
    ">**Parámetros:**\n",
    "* **frames (ndarray):** Una matriz donde cada columna representa un frame de audio.\n",
    "* **n_coeficientes (int):** Número de coeficientes LPC a extraer para cada frame.\n",
    "\n",
    ">**Retorna:**\n",
    "* **ndarray:** Una matriz donde cada fila contiene los coeficientes LPC (excluyendo el primer coeficiente) de un frame.\n",
    "\n",
    ">**Nota:**\n",
    "El primer coeficiente de LPC, que usualmente es 1.0 para señales normalizadas, se excluye porque no ofrece información relevante para la mayoría de aplicaciones de análisis."
   ]
  },
  {
   "cell_type": "code",
   "execution_count": null,
   "metadata": {
    "collapsed": true
   },
   "outputs": [],
   "source": [
    "def extraer_coeficientes_lpc(frames, n_coeficientes):\n",
    "    coeficientes_lpc = []\n",
    "\n",
    "    for frame in frames.T:\n",
    "        coef_lpc_frame = librosa.lpc(frame, order=n_coeficientes)\n",
    "        coef_lpc_frame = coef_lpc_frame[1:]  # Excluir el primer coeficiente (1.0)\n",
    "        coeficientes_lpc.append(coef_lpc_frame)\n",
    "    return np.array(coeficientes_lpc)"
   ]
  },
  {
   "cell_type": "markdown",
   "metadata": {},
   "source": [
    "### 2.3. Función para convertir coeficientes LPC a LPCC\n",
    "Convierte los coeficientes LPC (Linear Predictive Coding) a LPCC (Linear Predictive Cepstral Coefficients).\n",
    "\n",
    ">**Parámetros:**\n",
    "* **coeficientes_lpc (ndarray):** Una matriz donde cada fila contiene los coeficientes LPC de un frame.\n",
    "* **n_lpcc (int):** Número de coeficientes LPCC a calcular para cada frame.\n",
    "\n",
    ">**Retorna:**\n",
    "* **ndarray:** Una matriz donde cada fila contiene los coeficientes LPCC de un frame.\n",
    "\n",
    ">**Nota:**\n",
    "Los coeficientes LPCC son una representación cepstral de los coeficientes LPC y suelen ser utilizados en aplicaciones de procesamiento de voz.\n",
    "\n",
    "**IMPORTANTE: ** Para realizar la conversión de coeficientes LPC a LPCC se tomó como referencia la siguiente ecuación: \n",
    "\n",
    "La relación entre los coeficientes LPCC (C<sub>m</sub>) y LPC (a<sub>m</sub>) puede ser expresada por la ecuación:\n",
    "\n",
    "$$C_m = a_m + \\sum_{k=1}^{m-1} \\frac{k}{m} C_k a_{m-k} \\quad$$\n",
    "\n",
    "para $1 < m < p$, y $k=1,2,3,\\ldots,p$ donde $C_m$ son los coeficientes LPCC, $a_m $ son los coeficientes LPC y $p$ es el orden de los coeficientes. En nuestro caso, $p = 13$.\n",
    "\n",
    "Se utilizó la siguiente referencia:\n",
    "\n",
    "> K. S. Rao, V. Ramu Reddy, and S. Maity, Language identification using spectral and prosodic features. \n",
    "Springer International Publishing, 2015"
   ]
  },
  {
   "cell_type": "code",
   "execution_count": null,
   "metadata": {
    "collapsed": true
   },
   "outputs": [],
   "source": [
    "def lpc_a_lpcc(coeficientes_lpc, n_lpcc):\n",
    "    coeficientes_lpcc = []\n",
    "\n",
    "    for frame_lpc in coeficientes_lpc:\n",
    "        frame_lpcc = np.zeros(n_lpcc)\n",
    "\n",
    "        frame_lpcc[0] = frame_lpc[0]\n",
    "\n",
    "        for m in range(1, n_lpcc):\n",
    "            sumatoria = 0\n",
    "            for k in range(1, m):\n",
    "                sumatoria += (k / m) * frame_lpcc[k] * frame_lpc[m - k]\n",
    "            frame_lpcc[m] = frame_lpc[m] + sumatoria\n",
    "\n",
    "        coeficientes_lpcc.append(frame_lpcc)\n",
    "\n",
    "    return np.array(coeficientes_lpcc)"
   ]
  },
  {
   "cell_type": "markdown",
   "metadata": {},
   "source": [
    "## 3. Cargar Datos de Audio\n",
    "Aquí se carga la señal de audio desde un archivo .npy."
   ]
  },
  {
   "cell_type": "code",
   "execution_count": null,
   "metadata": {
    "collapsed": true
   },
   "outputs": [],
   "source": [
    "nombre_archivo_frames_lpc = \"nombre_del_archivo_que_contiene_los_frames.npy\"\n",
    "frames = cargar_frames_desde_archivo(nombre_archivo_frames_lpc)"
   ]
  },
  {
   "cell_type": "markdown",
   "metadata": {},
   "source": [
    "## 4. Extracción de Coeficientes LPC\n",
    "A partir de la señal de audio cargada, se extraen los coeficientes LPC."
   ]
  },
  {
   "cell_type": "code",
   "execution_count": null,
   "metadata": {
    "collapsed": true
   },
   "outputs": [],
   "source": [
    "n_coeficientes_lpc = 14\n",
    "coeficientes_lpc = extraer_coeficientes_lpc(frames, n_coeficientes_lpc)"
   ]
  },
  {
   "cell_type": "markdown",
   "metadata": {},
   "source": [
    "## 5. Conversión de LPC a LPCC\n",
    "A partir de los coeficiente LPC se obtienen los coeficientes LPCC."
   ]
  },
  {
   "cell_type": "code",
   "execution_count": null,
   "metadata": {
    "collapsed": true
   },
   "outputs": [],
   "source": [
    "n_coeficientes_lpcc = 13\n",
    "coeficientes_lpcc = lpc_a_lpcc(coeficientes_lpc, n_coeficientes_lpcc)"
   ]
  },
  {
   "cell_type": "markdown",
   "metadata": {},
   "source": [
    "## 5. Guardado de Coeficientes\n",
    "Una vez extraídos los coeficientes LPCC, se procede a guardarlos en un archivo .npy."
   ]
  },
  {
   "cell_type": "code",
   "execution_count": null,
   "metadata": {
    "collapsed": true
   },
   "outputs": [],
   "source": [
    "# Guardar coeficientes LPCC\n",
    "archivo_coeficientes_lpcc = 'coeficientes_lpcc.npy'\n",
    "np.save(archivo_coeficientes_lpcc, coeficientes_lpcc)"
   ]
  },
  {
   "cell_type": "markdown",
   "metadata": {},
   "source": [
    "## 7. Resumen de los Resultados\n",
    "1. Archivo original de frames: **nombre_del_archivo_que_contiene_los_frames.npy**\n",
    "2. Número de coeficientes LPCC por frame: 13\n",
    "3. Archivo de salida: **coeficientes_lpcc.npy (para LPCC)**"
   ]
  }
 ],
 "metadata": {
  "anaconda-cloud": {},
  "kernelspec": {
   "display_name": "Python [default]",
   "language": "python",
   "name": "python3"
  },
  "language_info": {
   "codemirror_mode": {
    "name": "ipython",
    "version": 3
   },
   "file_extension": ".py",
   "mimetype": "text/x-python",
   "name": "python",
   "nbconvert_exporter": "python",
   "pygments_lexer": "ipython3",
   "version": "3.5.2"
  }
 },
 "nbformat": 4,
 "nbformat_minor": 1
}
