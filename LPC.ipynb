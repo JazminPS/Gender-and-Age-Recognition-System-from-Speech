{
 "cells": [
  {
   "cell_type": "markdown",
   "metadata": {},
   "source": [
    "# Extracción de Coeficientes LPC\n",
    "\n",
    "Este notebook se centra en extraer los coeficientes LPC de una señal de audio. Los coeficientes LPC (Linear Predictive Coding) son comúnmente utilizados en procesamiento de señales y representan el espectro de un segmento de señal."
   ]
  },
  {
   "cell_type": "markdown",
   "metadata": {},
   "source": [
    "## Índice:\n",
    "\n",
    "1. Importación de Bibliotecas\n",
    "2. Definición de Funciones para la Extracción de Coeficientes LPC\n",
    "3. Cargar Datos de Audio\n",
    "4. Extracción de Coeficientes LPC\n",
    "5. Guardado de Coeficientes\n",
    "6. Resumen de los Resultados"
   ]
  },
  {
   "cell_type": "markdown",
   "metadata": {},
   "source": [
    "## 1. Importación de Bibliotecas\n",
    "Aquí se importan las bibliotecas necesarias para la extracción y procesamiento de los coeficientes LPC."
   ]
  },
  {
   "cell_type": "code",
   "execution_count": null,
   "metadata": {
    "collapsed": true
   },
   "outputs": [],
   "source": [
    "# numpy es una biblioteca de Python utilizada para realizar operaciones matemáticas\n",
    "# sobre arrays y matrices de manera eficiente. Se abrevia comúnmente como np.\n",
    "import numpy as np\n",
    "\n",
    "# librosa es una biblioteca de Python para el análisis de audio y música. \n",
    "# Proporciona las herramientas necesarias para extraer información de señales de audio\n",
    "# tales como tiempo de duración, frecuencia, entre otras.\n",
    "import librosa"
   ]
  },
  {
   "cell_type": "markdown",
   "metadata": {},
   "source": [
    "## 2. Definición de Funciones para la Extracción de Coeficientes LPC\n",
    "Se presentan las funciones que se usarán para cargar los datos de audio y extraer/guardar los coeficientes LPC."
   ]
  },
  {
   "cell_type": "markdown",
   "metadata": {},
   "source": [
    "### 2.1. Función para cargar datos de audio\n",
    "Carga datos de un archivo utilizando la función `load` de numpy.\n",
    "\n",
    ">**Parámetros:**\n",
    "* **archivo (str):** Ruta o nombre del archivo que contiene los datos a cargar.\n",
    "\n",
    ">**Retorna:**\n",
    "* **ndarray:** Un array de numpy con los datos cargados del archivo.\n"
   ]
  },
  {
   "cell_type": "code",
   "execution_count": null,
   "metadata": {
    "collapsed": true
   },
   "outputs": [],
   "source": [
    "def cargar_datos(archivo):\n",
    "    return np.load(archivo)"
   ]
  },
  {
   "cell_type": "markdown",
   "metadata": {},
   "source": [
    "### 2.2. Función para extraer coeficientes LPC de los frames de audio\n",
    "Extrae los coeficientes LPC (Linear Predictive Coding) de cada frame de audio proporcionado. Se extraen los coeficientes utilizando la función [lpc()](https://librosa.org/doc/main/generated/librosa.lpc.html) de la biblioteca [librosa](https://librosa.org/doc/latest/index.html) \n",
    "\n",
    ">**Parámetros:**\n",
    "* **frames (ndarray):** Una matriz donde cada columna representa un frame de audio.\n",
    "* **n_coeficientes (int):** Número de coeficientes LPC a extraer para cada frame.\n",
    "\n",
    ">**Retorna:**\n",
    "* **ndarray:** Una matriz donde cada fila contiene los coeficientes LPC de un frame.\n",
    "\n",
    ">**Nota:**\n",
    "La función descarta el primer coeficiente (coeficiente de reflexión) y solo devuelve\n",
    "los coeficientes de predicción. Ya que este es un coeficiente constante, es decir siempre es 1."
   ]
  },
  {
   "cell_type": "code",
   "execution_count": null,
   "metadata": {
    "collapsed": true
   },
   "outputs": [],
   "source": [
    "def extraer_coeficientes_lpc(frames, n_coeficientes):\n",
    "    coeficientes = []\n",
    "    for i in range(frames.shape[1]):\n",
    "        frame = frames[:, i]\n",
    "        coef_lpc_frame = librosa.lpc(frame, order=n_coeficientes)\n",
    "        coeficientes.append(coef_lpc_frame[1:])\n",
    "    return np.array(coeficientes)"
   ]
  },
  {
   "cell_type": "markdown",
   "metadata": {},
   "source": [
    "### 2.3. Función para guardar los coeficientes LPC\n",
    "Guarda los coeficientes proporcionados en un archivo utilizando la función `save` de numpy.\n",
    "\n",
    ">**Parámetros:**\n",
    "* **archivo (str):** Ruta o nombre del archivo donde se guardarán los coeficientes.\n",
    "* **coeficientes (ndarray):** Array de numpy que contiene los coeficientes a guardar."
   ]
  },
  {
   "cell_type": "code",
   "execution_count": null,
   "metadata": {
    "collapsed": true
   },
   "outputs": [],
   "source": [
    "def guardar_coeficientes(archivo, coeficientes):\n",
    "    np.save(archivo, coeficientes)"
   ]
  },
  {
   "cell_type": "markdown",
   "metadata": {},
   "source": [
    "## 3. Cargar Datos de Audio\n",
    "Aquí se carga la señal de audio desde un archivo .npy."
   ]
  },
  {
   "cell_type": "code",
   "execution_count": null,
   "metadata": {
    "collapsed": true
   },
   "outputs": [],
   "source": [
    "# Ruta al archivo de datos\n",
    "archivo_datos = 'nombre_del_archivo_que_contiene_los_frames'\n",
    "datos = cargar_datos(archivo_datos + '.npy')"
   ]
  },
  {
   "cell_type": "markdown",
   "metadata": {},
   "source": [
    "## 4. Extracción de Coeficientes LPC\n",
    "A partir de la señal de audio cargada, se extraen los coeficientes LPC."
   ]
  },
  {
   "cell_type": "code",
   "execution_count": null,
   "metadata": {
    "collapsed": true
   },
   "outputs": [],
   "source": [
    "# Número de coeficientes LPC a extraer\n",
    "n_coeficientes = 13\n",
    "coeficientes_lpc = extraer_coeficientes_lpc(datos, n_coeficientes)"
   ]
  },
  {
   "cell_type": "markdown",
   "metadata": {},
   "source": [
    "## 5. Guardado de Coeficientes\n",
    "Una vez extraídos los coeficientes LPC, se procede a guardarlos en un archivo .npy."
   ]
  },
  {
   "cell_type": "code",
   "execution_count": null,
   "metadata": {
    "collapsed": true
   },
   "outputs": [],
   "source": [
    "# Ruta al archivo donde se guardarán los coeficientes LPC\n",
    "archivo_coeficientes = 'coeficientes_lpc.npy'\n",
    "guardar_coeficientes(archivo_coeficientes, coeficientes_lpc)"
   ]
  },
  {
   "cell_type": "markdown",
   "metadata": {},
   "source": [
    "## 6. Resumen de los Resultados\n",
    "1. Archivo original de audio: **nombre_del_archivo_que_contiene_los_frames.npy**\n",
    "2. Número de coeficientes LPC extraídos por frame: **13**\n",
    "3. Archivo donde se guardaron los coeficientes: **coeficientes_lpc.npy**"
   ]
  }
 ],
 "metadata": {
  "anaconda-cloud": {},
  "kernelspec": {
   "display_name": "Python [default]",
   "language": "python",
   "name": "python3"
  },
  "language_info": {
   "codemirror_mode": {
    "name": "ipython",
    "version": 3
   },
   "file_extension": ".py",
   "mimetype": "text/x-python",
   "name": "python",
   "nbconvert_exporter": "python",
   "pygments_lexer": "ipython3",
   "version": "3.5.2"
  }
 },
 "nbformat": 4,
 "nbformat_minor": 1
}
