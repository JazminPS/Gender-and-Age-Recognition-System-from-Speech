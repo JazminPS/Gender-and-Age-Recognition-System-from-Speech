{
 "cells": [
  {
   "cell_type": "markdown",
   "metadata": {},
   "source": [
    "# Extracción de Coeficientes MFCC\n",
    "Este notebook está orientado a la extracción de coeficientes MFCC (Mel Frequency Cepstral Coefficients) a partir de una señal de audio."
   ]
  },
  {
   "cell_type": "markdown",
   "metadata": {},
   "source": [
    "## Índice:\n",
    "\n",
    "1. Importación de Bibliotecas\n",
    "2. Definición de Funciones para la Extracción de Coeficientes MFCC\n",
    "3. Cargar Datos de Audio\n",
    "4. Extracción de Coeficientes MFCC\n",
    "5. Guardado de Coeficientes MFCC\n",
    "6. Resumen de los Resultados"
   ]
  },
  {
   "cell_type": "markdown",
   "metadata": {},
   "source": [
    "## 1. Importación de Bibliotecas\n",
    "Se importan las bibliotecas esenciales para el procesamiento y extracción de características del audio."
   ]
  },
  {
   "cell_type": "code",
   "execution_count": null,
   "metadata": {
    "collapsed": true
   },
   "outputs": [],
   "source": [
    "# numpy es una biblioteca de Python utilizada para realizar operaciones matemáticas\n",
    "# sobre arrays y matrices de manera eficiente. Se abrevia comúnmente como np.\n",
    "import numpy as np\n",
    "\n",
    "# librosa es una biblioteca de Python para el análisis de audio y música. \n",
    "# Proporciona las herramientas necesarias para extraer información de señales de audio\n",
    "# tales como tiempo de duración, frecuencia, entre otras.\n",
    "import librosa"
   ]
  },
  {
   "cell_type": "markdown",
   "metadata": {},
   "source": [
    "## 2. Definición de Funciones para la Extracción de Coeficientes MFCC\n",
    "Se presentan las funciones que se usarán para cargar los datos de audio y extraer/guardar los coeficientes MFCC."
   ]
  },
  {
   "cell_type": "markdown",
   "metadata": {},
   "source": [
    "### 2.1. Función para cargar datos desde un archivo\n",
    "Carga datos desde un archivo utilizando la función `load` de numpy.\n",
    "\n",
    ">**Parámetros:**\n",
    "* **archivo_de_entrada (str):** Ruta o nombre del archivo del cual se cargarán los datos.\n",
    "\n",
    ">**Retorna:**\n",
    "* **ndarray:** Un array de numpy con los datos cargados desde el archivo."
   ]
  },
  {
   "cell_type": "code",
   "execution_count": null,
   "metadata": {
    "collapsed": true
   },
   "outputs": [],
   "source": [
    "def cargar_datos(archivo_de_entrada):\n",
    "    return np.load(archivo_de_entrada)"
   ]
  },
  {
   "cell_type": "markdown",
   "metadata": {},
   "source": [
    "### 2.2. Función para extraer características MFCC\n",
    "Extrae los coeficientes MFCC (Mel-frequency cepstral coefficients) de cada frame de audio.P()]ara obtener los coeficientes por cada frame se utiliza la función [librosa.feature.mfcc()](https://librosa.org/doc/main/generated/librosa.feature.mfcc.html).\n",
    "\n",
    ">**Parámetros:**\n",
    "* **frames (ndarray):** Una matriz donde cada columna representa un frame de audio.\n",
    "* **sample_rate (int):** Tasa de muestreo del audio.\n",
    "* **num_coeficientes (int):** Número de coeficientes MFCC a extraer para cada frame.\n",
    "* **nfft (int, opcional):** Número de puntos FFT a utilizar. Por defecto es 512.\n",
    "* **n_mels (int, opcional):** Número de bancos de filtro Mel a utilizar. Por defecto es 40.\n",
    "* **fmax (float, opcional):** Frecuencia máxima a considerar. Si es None, se considera Nyquist.\n",
    "\n",
    ">**Retorna:**\n",
    "* **ndarray:** Una matriz donde cada fila contiene los coeficientes MFCC de un frame."
   ]
  },
  {
   "cell_type": "code",
   "execution_count": null,
   "metadata": {
    "collapsed": true
   },
   "outputs": [],
   "source": [
    "def extraer_caracteristicas_mfcc(frames, sample_rate, num_coeficientes, nfft=512, n_mels=40, fmax=None):\n",
    "    frame_len = frames.shape[1]\n",
    "    mfcc_coeffs = np.zeros((frame_len, num_coeficientes))\n",
    "    for i in range(frame_len):\n",
    "        frame = frames[:, i]\n",
    "        mfcc_frame = librosa.feature.mfcc(y=frame, sr=sample_rate, n_mfcc=num_coeficientes, n_fft=nfft, n_mels=n_mels, fmax=fmax)\n",
    "        mfcc_coeffs[i, :] = mfcc_frame[:, 0]\n",
    "    return mfcc_coeffs"
   ]
  },
  {
   "cell_type": "markdown",
   "metadata": {},
   "source": [
    "### 2.3. Función para guardar coeficientes en un archivo\n",
    "Guarda los coeficientes proporcionados en un archivo utilizando la función `save` de numpy.\n",
    "\n",
    ">**Parámetros:**\n",
    "* **archivo (str):** Ruta o nombre del archivo donde se guardarán los coeficientes.\n",
    "* **coeficientes (ndarray):** Array de numpy que contiene los coeficientes a guardar."
   ]
  },
  {
   "cell_type": "code",
   "execution_count": null,
   "metadata": {
    "collapsed": true
   },
   "outputs": [],
   "source": [
    "def guardar_coeficientes(archivo, coeficientes):\n",
    "    np.save(archivo, coeficientes)"
   ]
  },
  {
   "cell_type": "markdown",
   "metadata": {},
   "source": [
    "## 3. Cargar Datos de Audio\n",
    "Aquí se carga la señal de audio desde un archivo .npy."
   ]
  },
  {
   "cell_type": "code",
   "execution_count": null,
   "metadata": {
    "collapsed": true
   },
   "outputs": [],
   "source": [
    "# Ruta al archivo de datos\n",
    "archivo_de_datos = \"nombre_del_archivo_que_contiene_los_frames\"\n",
    "frames = cargar_datos(archivo_de_datos + '.npy')"
   ]
  },
  {
   "cell_type": "markdown",
   "metadata": {},
   "source": [
    "## 4. Extracción de Coeficientes MFCC\n",
    "A partir de la señal de audio cargada, se extraen los coeficientes MFCC."
   ]
  },
  {
   "cell_type": "code",
   "execution_count": null,
   "metadata": {
    "collapsed": true
   },
   "outputs": [],
   "source": [
    "# Número de coeficiente MFCC a extraer\n",
    "num_coeficientes = 13\n",
    "sample_rate = 32000\n",
    "mfcc_coeffs = extraer_caracteristicas_mfcc(frames, sample_rate, num_coeficientes, n_mels=40, fmax=sample_rate//2)"
   ]
  },
  {
   "cell_type": "markdown",
   "metadata": {},
   "source": [
    "## 5. Guardado de Coeficientes MFCC\n",
    "Una vez extraídos los coeficientes MFCC, se procede a guardarlos en un archivo .npy."
   ]
  },
  {
   "cell_type": "code",
   "execution_count": null,
   "metadata": {
    "collapsed": true
   },
   "outputs": [],
   "source": [
    "# Ruta al archivo donde se guardarán los coeficientes MFCC\n",
    "archivo_coeficientes = 'coeficientes_mfcc.npy'\n",
    "guardar_coeficientes(archivo_coeficientes, mfcc_coeffs)"
   ]
  },
  {
   "cell_type": "markdown",
   "metadata": {},
   "source": [
    "## 6. Resumen de los Resultados\n",
    "1. Archivo original de frames: **nombre_del_archivo_que_contiene_los_frames.npy**\n",
    "2. Número de coeficientes MFCC extraídos por frame: **13**\n",
    "3. Archivo de salida con coeficientes MFCC: **coeficientes_mfcc.npy**"
   ]
  }
 ],
 "metadata": {
  "anaconda-cloud": {},
  "kernelspec": {
   "display_name": "Python [default]",
   "language": "python",
   "name": "python3"
  },
  "language_info": {
   "codemirror_mode": {
    "name": "ipython",
    "version": 3
   },
   "file_extension": ".py",
   "mimetype": "text/x-python",
   "name": "python",
   "nbconvert_exporter": "python",
   "pygments_lexer": "ipython3",
   "version": "3.5.2"
  }
 },
 "nbformat": 4,
 "nbformat_minor": 1
}
